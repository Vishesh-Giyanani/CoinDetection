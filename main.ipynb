{
 "cells": [
  {
   "cell_type": "markdown",
   "metadata": {},
   "source": [
    "# Coin Detection"
   ]
  },
  {
   "cell_type": "code",
   "execution_count": 1,
   "metadata": {},
   "outputs": [],
   "source": [
    "import cv2\n",
    "import numpy as np"
   ]
  },
  {
   "cell_type": "code",
   "execution_count": 2,
   "metadata": {},
   "outputs": [],
   "source": [
    "one = cv2.imread(\"data/coin.png\")\n",
    "two = cv2.imread(\"data/code.png\")\n",
    "three = cv2.imread(\"data/main.png\")\n",
    "\n",
    "inp = input(\"Enter the image name: \")\n",
    "\n",
    "if inp == \"one\":\n",
    "    img = one\n",
    "elif inp == \"two\":\n",
    "    img = two\n",
    "elif inp == \"three\":\n",
    "    img = three\n",
    "\n",
    "\n",
    "output = img.copy()\n",
    "gray = cv2.cvtColor(img, cv2.COLOR_BGR2GRAY)\n",
    "gray = cv2.GaussianBlur(gray, (7,7), 1.5)"
   ]
  },
  {
   "cell_type": "code",
   "execution_count": 3,
   "metadata": {},
   "outputs": [
    {
     "data": {
      "text/plain": [
       "49"
      ]
     },
     "execution_count": 3,
     "metadata": {},
     "output_type": "execute_result"
    }
   ],
   "source": [
    "def display_image(input_img):\n",
    "    cv2.imshow('image', input_img)\n",
    "    cv2.startWindowThread()\n",
    "    key = cv2.waitKey(0)\n",
    "    cv2.destroyAllWindows()\n",
    "    for i in range(2):\n",
    "        cv2.waitKey(1)\n",
    "    return key\n",
    "\n",
    "display_image(img)"
   ]
  },
  {
   "cell_type": "code",
   "execution_count": 4,
   "metadata": {},
   "outputs": [],
   "source": [
    "def detect_circles(input_img):\n",
    "    circles = cv2.HoughCircles(input_img, cv2.HOUGH_GRADIENT, 1, 175, param1=50, param2=30, minRadius=30, maxRadius=200)\n",
    "    return np.uint16(np.around(circles))"
   ]
  },
  {
   "cell_type": "code",
   "execution_count": 5,
   "metadata": {},
   "outputs": [],
   "source": [
    "def detect_material(input_img, x, y, box_size):\n",
    "    mean_brightness = np.mean(input_img[(y-box_size):(y+box_size), (x-box_size):(x+box_size)])\n",
    "    if mean_brightness >= 140:\n",
    "        c_mat = \"silver\" \n",
    "    else:\n",
    "        c_mat =\"copper\"\n",
    "    return c_mat"
   ]
  },
  {
   "cell_type": "code",
   "execution_count": 6,
   "metadata": {},
   "outputs": [],
   "source": [
    "def get_coin_value(c_radius, c_mat):\n",
    "\n",
    "    caf = 6.33\n",
    "    if c_radius*2 / caf <= 22:\n",
    "        if c_mat == \"copper\":\n",
    "            return \" <= 22\"\n",
    "        elif c_mat == \"silver\":\n",
    "            return \" <= 22\"\n",
    "    else:\n",
    "        if c_mat == \"copper\":\n",
    "            return \" > 22\"\n",
    "        elif c_mat == \"silver\":\n",
    "            return \"> 22\""
   ]
  },
  {
   "cell_type": "code",
   "execution_count": 7,
   "metadata": {},
   "outputs": [
    {
     "name": "stdout",
     "output_type": "stream",
     "text": [
      "Coin 1 is copper and has value  > 22\n",
      "Coin 2 is copper and has value  > 22\n",
      "Coin 3 is copper and has value  > 22\n",
      "Coin 4 is copper and has value  > 22\n",
      "\n",
      "Total number of coins detected: 4\n"
     ]
    }
   ],
   "source": [
    "detected_circles = detect_circles(gray)\n",
    "\n",
    "count = 1 \n",
    "\n",
    "for (x, y, r) in detected_circles[0, :]:\n",
    "    cv2.circle(output, (x, y), r, (0, 255, 0), 3)\n",
    "    cv2.circle(output, (x, y), 2, (0, 0, 255), 5)\n",
    "    c_mat = detect_material(gray, x, y, 15)\n",
    "    c_value = get_coin_value(r, c_mat)\n",
    "    cv2.putText(output, f\"c:{count}/v:{c_value}\", (x, y), cv2.FONT_ITALIC, fontScale=0.7, color=(255, 0, 0), thickness=2)\n",
    "    \n",
    "    print(f\"Coin {count} is {c_mat} and has value {c_value}\")\n",
    "    \n",
    "    count += 1  \n",
    "\n",
    "total_coins = count - 1\n",
    "print(f\"\\nTotal number of coins detected: {total_coins}\")"
   ]
  },
  {
   "cell_type": "code",
   "execution_count": 8,
   "metadata": {},
   "outputs": [
    {
     "data": {
      "text/plain": [
       "49"
      ]
     },
     "execution_count": 8,
     "metadata": {},
     "output_type": "execute_result"
    }
   ],
   "source": [
    "display_image(output)"
   ]
  }
 ],
 "metadata": {
  "kernelspec": {
   "display_name": "Python 3",
   "language": "python",
   "name": "python3"
  },
  "language_info": {
   "codemirror_mode": {
    "name": "ipython",
    "version": 3
   },
   "file_extension": ".py",
   "mimetype": "text/x-python",
   "name": "python",
   "nbconvert_exporter": "python",
   "pygments_lexer": "ipython3",
   "version": "3.10.5"
  }
 },
 "nbformat": 4,
 "nbformat_minor": 2
}
