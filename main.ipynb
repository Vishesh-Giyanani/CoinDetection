{
 "cells": [
  {
   "cell_type": "markdown",
   "metadata": {},
   "source": [
    "## Coin Detection"
   ]
  },
  {
   "cell_type": "code",
   "execution_count": 1,
   "metadata": {},
   "outputs": [],
   "source": [
    "import cv2\n",
    "import numpy as np\n",
    "import streamlit as st\n",
    "from PIL import Image"
   ]
  },
  {
   "cell_type": "code",
   "execution_count": 2,
   "metadata": {},
   "outputs": [],
   "source": [
    "one = cv2.imread(\"data/coin.png\")\n",
    "two = cv2.imread(\"data/code.png\")\n",
    "three = cv2.imread(\"data/main.png\")\n",
    "\n",
    "img = three\n",
    "output = img.copy()\n",
    "gray = cv2.cvtColor(img, cv2.COLOR_BGR2GRAY)\n",
    "gray = cv2.GaussianBlur(gray, (7,7), 1.5)"
   ]
  },
  {
   "cell_type": "code",
   "execution_count": 3,
   "metadata": {},
   "outputs": [
    {
     "data": {
      "text/plain": [
       "49"
      ]
     },
     "execution_count": 3,
     "metadata": {},
     "output_type": "execute_result"
    }
   ],
   "source": [
    "def display_image(input_img):\n",
    "    cv2.imshow('image', input_img)\n",
    "    cv2.startWindowThread()\n",
    "    key = cv2.waitKey(0)\n",
    "    cv2.destroyAllWindows()\n",
    "    for i in range(2):\n",
    "        cv2.waitKey(1)\n",
    "    return key\n",
    "\n",
    "display_image(img)"
   ]
  },
  {
   "cell_type": "code",
   "execution_count": 4,
   "metadata": {},
   "outputs": [],
   "source": [
    "def detect_circles(input_img):\n",
    "    circles = cv2.HoughCircles(input_img, cv2.HOUGH_GRADIENT, 1, 175, param1=50, param2=30, minRadius=30, maxRadius=200)\n",
    "    return np.uint16(np.around(circles))"
   ]
  },
  {
   "cell_type": "code",
   "execution_count": 5,
   "metadata": {},
   "outputs": [],
   "source": [
    "def detect_material(input_img, x, y, box_size):\n",
    "    mean_brightness = np.mean(input_img[(y-box_size):(y+box_size), (x-box_size):(x+box_size)])\n",
    "    if mean_brightness >= 140:\n",
    "        c_mat = \"silver\" \n",
    "    else:\n",
    "        c_mat =\"copper\"\n",
    "    return c_mat"
   ]
  },
  {
   "cell_type": "code",
   "execution_count": 6,
   "metadata": {},
   "outputs": [],
   "source": [
    "def get_coin_value(c_radius, c_mat):\n",
    "\n",
    "    caf = 6.33\n",
    "    if c_radius*2 / caf <= 22:\n",
    "        if c_mat == \"copper\":\n",
    "            return \"p1\"\n",
    "        elif c_mat == \"silver\":\n",
    "            return \"p5\"\n",
    "    else:\n",
    "        if c_mat == \"copper\":\n",
    "            return \"p2\"\n",
    "        elif c_mat == \"silver\":\n",
    "            return \"p10\""
   ]
  },
  {
   "cell_type": "code",
   "execution_count": 7,
   "metadata": {},
   "outputs": [],
   "source": [
    "detected_circles = detect_circles(gray)\n",
    "\n",
    "# visualize results:\n",
    "count = 1\n",
    "for (x, y, r) in detected_circles[0, :]:\n",
    "    cv2.circle(output, (x, y), r, (0, 255, 0), 3)\n",
    "    cv2.circle(output, (x, y), 2, (0, 0, 255), 5)\n",
    "    c_mat = detect_material(gray, x, y, 15)\n",
    "    c_value = get_coin_value(r, c_mat)\n",
    "    cv2.putText(output,f\"c:{count}/v:{c_value}\",(x,y), cv2.FONT_ITALIC, fontScale= 1, color = (255, 0, 0), thickness = 2)\n",
    "    count += 1"
   ]
  },
  {
   "cell_type": "code",
   "execution_count": 11,
   "metadata": {},
   "outputs": [
    {
     "data": {
      "text/plain": [
       "DeltaGenerator()"
      ]
     },
     "execution_count": 11,
     "metadata": {},
     "output_type": "execute_result"
    }
   ],
   "source": [
    "st.title(\"Coin Detection App\")\n",
    "st.image(output)"
   ]
  },
  {
   "cell_type": "code",
   "execution_count": 8,
   "metadata": {},
   "outputs": [
    {
     "data": {
      "text/plain": [
       "49"
      ]
     },
     "execution_count": 8,
     "metadata": {},
     "output_type": "execute_result"
    }
   ],
   "source": [
    "display_image(output)"
   ]
  }
 ],
 "metadata": {
  "kernelspec": {
   "display_name": "Python 3",
   "language": "python",
   "name": "python3"
  },
  "language_info": {
   "codemirror_mode": {
    "name": "ipython",
    "version": 3
   },
   "file_extension": ".py",
   "mimetype": "text/x-python",
   "name": "python",
   "nbconvert_exporter": "python",
   "pygments_lexer": "ipython3",
   "version": "3.10.5"
  }
 },
 "nbformat": 4,
 "nbformat_minor": 2
}
